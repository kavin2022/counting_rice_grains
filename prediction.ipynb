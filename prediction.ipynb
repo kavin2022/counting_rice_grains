{
 "cells": [
  {
   "cell_type": "code",
   "execution_count": 193,
   "id": "ba276b2d",
   "metadata": {},
   "outputs": [],
   "source": [
    "import pickle\n",
    "import os\n",
    "import pandas as pd\n",
    "import warnings\n",
    "warnings.filterwarnings(\"ignore\")"
   ]
  },
  {
   "cell_type": "code",
   "execution_count": 194,
   "id": "5c37ebb4",
   "metadata": {},
   "outputs": [],
   "source": [
    "filename = 'finalized_model.pkl'\n",
    "loaded_model = pickle.load(open(filename, 'rb'))"
   ]
  },
  {
   "cell_type": "markdown",
   "id": "9740633f",
   "metadata": {},
   "source": [
    "# importing data"
   ]
  },
  {
   "cell_type": "code",
   "execution_count": 195,
   "id": "11dadcb0",
   "metadata": {},
   "outputs": [],
   "source": [
    "test = os.listdir('data/test')\n",
    "train = os.listdir('data/train')\n",
    "area_train = os.listdir('area_data/train')\n",
    "area_test = os.listdir('area_data/test')"
   ]
  },
  {
   "cell_type": "code",
   "execution_count": 197,
   "id": "c6b77ff2",
   "metadata": {},
   "outputs": [],
   "source": [
    "# dir1 = train\n",
    "dir1 = test"
   ]
  },
  {
   "cell_type": "code",
   "execution_count": 198,
   "id": "4a6e2ca0",
   "metadata": {},
   "outputs": [],
   "source": [
    "# dir2 = area_train[1:]\n",
    "dir2 = area_test"
   ]
  },
  {
   "cell_type": "code",
   "execution_count": 199,
   "id": "d7a84348",
   "metadata": {},
   "outputs": [],
   "source": [
    "# creating result df dataframe\n",
    "result_df = pd.DataFrame(columns = ['file_name','total_rice_grain','total_broken_rice_grain','total_full_grain'])"
   ]
  },
  {
   "cell_type": "markdown",
   "id": "4b79ca5c",
   "metadata": {},
   "source": [
    "## train data"
   ]
  },
  {
   "cell_type": "code",
   "execution_count": 200,
   "id": "0eb46cb4",
   "metadata": {},
   "outputs": [],
   "source": [
    "# # storing the predicted value of train data in result_df dataframe\n",
    "# for i in range(len(dir1)):\n",
    "#     image_area = pd.read_csv(f'area_data/train/{dir2[i]}',index_col = 0)\n",
    "#     image_area['area'].to_frame()\n",
    "#     pred = loaded_model.predict(image_area['area'].to_frame())\n",
    "#     x = pd.DataFrame(pred).value_counts()\n",
    "#     x = {'total_broken_rice_grain': x[0],'total_full_grain':x[1]}\n",
    "#     x['file_name'] = dir1[i]\n",
    "#     x['total_rice_grain'] = image_area.size\n",
    "#     result_df = result_df.append(x,ignore_index = True)"
   ]
  },
  {
   "cell_type": "markdown",
   "id": "9005be58",
   "metadata": {},
   "source": [
    "## test data"
   ]
  },
  {
   "cell_type": "code",
   "execution_count": 201,
   "id": "32088b9e",
   "metadata": {},
   "outputs": [
    {
     "name": "stderr",
     "output_type": "stream",
     "text": [
      "[Parallel(n_jobs=12)]: Using backend ThreadingBackend with 12 concurrent workers.\n",
      "[Parallel(n_jobs=12)]: Done  26 tasks      | elapsed:    0.0s\n",
      "[Parallel(n_jobs=12)]: Done 176 tasks      | elapsed:    0.0s\n",
      "[Parallel(n_jobs=12)]: Done 200 out of 200 | elapsed:    0.0s finished\n",
      "[Parallel(n_jobs=12)]: Using backend ThreadingBackend with 12 concurrent workers.\n",
      "[Parallel(n_jobs=12)]: Done  26 tasks      | elapsed:    0.0s\n",
      "[Parallel(n_jobs=12)]: Done 176 tasks      | elapsed:    0.0s\n",
      "[Parallel(n_jobs=12)]: Done 200 out of 200 | elapsed:    0.0s finished\n",
      "[Parallel(n_jobs=12)]: Using backend ThreadingBackend with 12 concurrent workers.\n",
      "[Parallel(n_jobs=12)]: Done  26 tasks      | elapsed:    0.0s\n",
      "[Parallel(n_jobs=12)]: Done 176 tasks      | elapsed:    0.0s\n",
      "[Parallel(n_jobs=12)]: Done 200 out of 200 | elapsed:    0.0s finished\n",
      "[Parallel(n_jobs=12)]: Using backend ThreadingBackend with 12 concurrent workers.\n",
      "[Parallel(n_jobs=12)]: Done  26 tasks      | elapsed:    0.0s\n",
      "[Parallel(n_jobs=12)]: Done 176 tasks      | elapsed:    0.0s\n",
      "[Parallel(n_jobs=12)]: Done 200 out of 200 | elapsed:    0.0s finished\n",
      "[Parallel(n_jobs=12)]: Using backend ThreadingBackend with 12 concurrent workers.\n",
      "[Parallel(n_jobs=12)]: Done  26 tasks      | elapsed:    0.0s\n",
      "[Parallel(n_jobs=12)]: Done 176 tasks      | elapsed:    0.0s\n",
      "[Parallel(n_jobs=12)]: Done 200 out of 200 | elapsed:    0.0s finished\n"
     ]
    }
   ],
   "source": [
    "# storing the predicted value of test data in result_df dataframe\n",
    "for i in range(len(dir1)):\n",
    "    image_area = pd.read_csv(f'area_data/test/{dir2[i]}',index_col = 0)\n",
    "    image_area['area'].to_frame()\n",
    "    pred = loaded_model.predict(image_area['area'].to_frame())\n",
    "    x = pd.DataFrame(pred).value_counts()\n",
    "    x = {'total_broken_rice_grain': x[0],'total_full_grain':x[1]}\n",
    "    x['file_name'] = dir1[i]\n",
    "    x['total_rice_grain'] = image_area['area'].size\n",
    "    result_df = result_df.append(x,ignore_index = True)"
   ]
  },
  {
   "cell_type": "code",
   "execution_count": 204,
   "id": "ff717aa8",
   "metadata": {
    "scrolled": true
   },
   "outputs": [
    {
     "data": {
      "text/html": [
       "<div>\n",
       "<style scoped>\n",
       "    .dataframe tbody tr th:only-of-type {\n",
       "        vertical-align: middle;\n",
       "    }\n",
       "\n",
       "    .dataframe tbody tr th {\n",
       "        vertical-align: top;\n",
       "    }\n",
       "\n",
       "    .dataframe thead th {\n",
       "        text-align: right;\n",
       "    }\n",
       "</style>\n",
       "<table border=\"1\" class=\"dataframe\">\n",
       "  <thead>\n",
       "    <tr style=\"text-align: right;\">\n",
       "      <th></th>\n",
       "      <th>file_name</th>\n",
       "      <th>total_rice_grain</th>\n",
       "      <th>total_broken_rice_grain</th>\n",
       "      <th>total_full_grain</th>\n",
       "    </tr>\n",
       "  </thead>\n",
       "  <tbody>\n",
       "    <tr>\n",
       "      <th>0</th>\n",
       "      <td>image_1.jpg</td>\n",
       "      <td>630</td>\n",
       "      <td>72</td>\n",
       "      <td>558</td>\n",
       "    </tr>\n",
       "    <tr>\n",
       "      <th>1</th>\n",
       "      <td>image_2.jpg</td>\n",
       "      <td>645</td>\n",
       "      <td>92</td>\n",
       "      <td>553</td>\n",
       "    </tr>\n",
       "    <tr>\n",
       "      <th>2</th>\n",
       "      <td>image_3.jpg</td>\n",
       "      <td>634</td>\n",
       "      <td>110</td>\n",
       "      <td>524</td>\n",
       "    </tr>\n",
       "    <tr>\n",
       "      <th>3</th>\n",
       "      <td>image_4.jpg</td>\n",
       "      <td>723</td>\n",
       "      <td>147</td>\n",
       "      <td>576</td>\n",
       "    </tr>\n",
       "    <tr>\n",
       "      <th>4</th>\n",
       "      <td>image_5.jpg</td>\n",
       "      <td>737</td>\n",
       "      <td>66</td>\n",
       "      <td>671</td>\n",
       "    </tr>\n",
       "  </tbody>\n",
       "</table>\n",
       "</div>"
      ],
      "text/plain": [
       "     file_name total_rice_grain total_broken_rice_grain total_full_grain\n",
       "0  image_1.jpg              630                      72              558\n",
       "1  image_2.jpg              645                      92              553\n",
       "2  image_3.jpg              634                     110              524\n",
       "3  image_4.jpg              723                     147              576\n",
       "4  image_5.jpg              737                      66              671"
      ]
     },
     "execution_count": 204,
     "metadata": {},
     "output_type": "execute_result"
    }
   ],
   "source": [
    "result_df"
   ]
  },
  {
   "cell_type": "code",
   "execution_count": 205,
   "id": "63f4c1ec",
   "metadata": {},
   "outputs": [],
   "source": [
    "# result_df.to_csv('result/train_result.csv')"
   ]
  },
  {
   "cell_type": "code",
   "execution_count": 206,
   "id": "6a8bda63",
   "metadata": {},
   "outputs": [],
   "source": [
    "result_df.to_csv('result/test_result.csv',index = False)"
   ]
  },
  {
   "cell_type": "markdown",
   "id": "255789ee",
   "metadata": {},
   "source": [
    "# result"
   ]
  },
  {
   "cell_type": "code",
   "execution_count": 209,
   "id": "789f04f9",
   "metadata": {},
   "outputs": [],
   "source": [
    "df2 = pd.read_csv('result/test_result.csv')\n",
    "df2.iloc[:,:3].to_csv('result/submission.csv',index = False)"
   ]
  },
  {
   "cell_type": "code",
   "execution_count": 212,
   "id": "4902f262",
   "metadata": {},
   "outputs": [
    {
     "data": {
      "text/html": [
       "<div>\n",
       "<style scoped>\n",
       "    .dataframe tbody tr th:only-of-type {\n",
       "        vertical-align: middle;\n",
       "    }\n",
       "\n",
       "    .dataframe tbody tr th {\n",
       "        vertical-align: top;\n",
       "    }\n",
       "\n",
       "    .dataframe thead th {\n",
       "        text-align: right;\n",
       "    }\n",
       "</style>\n",
       "<table border=\"1\" class=\"dataframe\">\n",
       "  <thead>\n",
       "    <tr style=\"text-align: right;\">\n",
       "      <th></th>\n",
       "      <th>file_name</th>\n",
       "      <th>total_rice_grain</th>\n",
       "      <th>total_broken_rice_grain</th>\n",
       "    </tr>\n",
       "  </thead>\n",
       "  <tbody>\n",
       "    <tr>\n",
       "      <th>0</th>\n",
       "      <td>image_1.jpg</td>\n",
       "      <td>630</td>\n",
       "      <td>72</td>\n",
       "    </tr>\n",
       "    <tr>\n",
       "      <th>1</th>\n",
       "      <td>image_2.jpg</td>\n",
       "      <td>645</td>\n",
       "      <td>92</td>\n",
       "    </tr>\n",
       "    <tr>\n",
       "      <th>2</th>\n",
       "      <td>image_3.jpg</td>\n",
       "      <td>634</td>\n",
       "      <td>110</td>\n",
       "    </tr>\n",
       "    <tr>\n",
       "      <th>3</th>\n",
       "      <td>image_4.jpg</td>\n",
       "      <td>723</td>\n",
       "      <td>147</td>\n",
       "    </tr>\n",
       "    <tr>\n",
       "      <th>4</th>\n",
       "      <td>image_5.jpg</td>\n",
       "      <td>737</td>\n",
       "      <td>66</td>\n",
       "    </tr>\n",
       "  </tbody>\n",
       "</table>\n",
       "</div>"
      ],
      "text/plain": [
       "     file_name  total_rice_grain  total_broken_rice_grain\n",
       "0  image_1.jpg               630                       72\n",
       "1  image_2.jpg               645                       92\n",
       "2  image_3.jpg               634                      110\n",
       "3  image_4.jpg               723                      147\n",
       "4  image_5.jpg               737                       66"
      ]
     },
     "execution_count": 212,
     "metadata": {},
     "output_type": "execute_result"
    }
   ],
   "source": [
    "df = pd.read_csv('result/submission.csv')\n",
    "df"
   ]
  }
 ],
 "metadata": {
  "kernelspec": {
   "display_name": "Python 3 (ipykernel)",
   "language": "python",
   "name": "python3"
  },
  "language_info": {
   "codemirror_mode": {
    "name": "ipython",
    "version": 3
   },
   "file_extension": ".py",
   "mimetype": "text/x-python",
   "name": "python",
   "nbconvert_exporter": "python",
   "pygments_lexer": "ipython3",
   "version": "3.10.9"
  }
 },
 "nbformat": 4,
 "nbformat_minor": 5
}
